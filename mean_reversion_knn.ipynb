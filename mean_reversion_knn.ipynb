{
 "nbformat": 4,
 "nbformat_minor": 5,
 "metadata": {
  "kernelspec": {"name": "python3", "display_name": "Python 3"},
  "language_info": {"name": "python"}
 },
 "cells": [
  {
   "cell_type": "code",
   "metadata": {},
   "execution_count": null,
   "outputs": [],
   "source": [
    "import pandas as pd\n",
    "import yfinance as yf\n",
    "from datetime import datetime, timedelta\n",
    "from sklearn.linear_model import LinearRegression\n"
   ]
  },
  {
   "cell_type": "code",
   "metadata": {},
   "execution_count": null,
   "outputs": [],
   "source": [
    "def download_price_data(tickers, start, end):\n",
    "    all_tickers = tickers + ['^GSPC']\n",
    "    data = yf.download(all_tickers, start=start, end=end)\n",
    "    return data['Close']\n",
    "\n",
    "def calculate_daily_returns(close_prices):\n",
    "    return close_prices.pct_change().dropna()\n",
    "\n",
    "def calculate_rolling_beta(daily_returns, tickers, benchmark_ticker, window=60):\n",
    "    beta_values = {}\n",
    "    for ticker in tickers:\n",
    "        cov = daily_returns[benchmark_ticker].rolling(window).cov(daily_returns[ticker])\n",
    "        var = daily_returns[benchmark_ticker].rolling(window).var()\n",
    "        beta_values[ticker] = cov / var\n",
    "    return pd.DataFrame(beta_values)\n",
    "\n",
    "def add_momentum(close_prices, tickers, window=60):\n",
    "    for ticker in tickers:\n",
    "        close_prices[f'{ticker}_Mom_{window}d'] = close_prices[ticker].pct_change(periods=window)\n",
    "    return close_prices\n",
    "\n",
    "def add_zscore(close_prices, tickers, window=60):\n",
    "    for ticker in tickers:\n",
    "        mean = close_prices[ticker].rolling(window).mean()\n",
    "        std = close_prices[ticker].rolling(window).std()\n",
    "        close_prices[f'{ticker}_ZScore_{window}d'] = (close_prices[ticker] - mean) / std\n",
    "    return close_prices\n",
    "\n",
    "def add_skew_kurtosis(daily_returns, tickers, window=60):\n",
    "    for ticker in tickers:\n",
    "        daily_returns[f'{ticker}_Skew_{window}d'] = daily_returns[ticker].rolling(window).skew()\n",
    "        daily_returns[f'{ticker}_Kurt_{window}d'] = daily_returns[ticker].rolling(window).kurt()\n",
    "    return daily_returns\n"
   ]
  },
  {
   "cell_type": "code",
   "metadata": {},
   "execution_count": null,
   "outputs": [],
   "source": [
    "tickers = [\n",
    "    'AAPL', 'MSFT', 'GOOG', 'AMZN', 'META', 'TSLA', 'BRK-A', 'JPM', 'JNJ', 'V',\n",
    "    'PG', 'UNH', 'HD', 'MA', 'BAC', 'XOM', 'NVDA', 'LLY', 'AVGO', 'COST',\n",
    "    'PFE', 'MRK', 'ABT', 'TMO', 'CRM', 'CMCSA', 'VZ', 'ADBE', 'KO', 'PEP',\n",
    "    'NKE', 'DIS', 'CSCO', 'INTC', 'ORCL', 'IBM', 'TXN', 'QCOM', 'AMGN', 'MDLZ',\n",
    "    'SBUX', 'GE', 'LOW', 'RTX', 'CAT', 'BA', 'HON', 'DE', 'MMM', 'AXP'\n",
    "]\n",
    "benchmark_ticker = '^GSPC'\n",
    "\n",
    "end_date = datetime.now()\n",
    "start_date = end_date - timedelta(days=365)\n",
    "\n",
    "close_prices = download_price_data(tickers, start_date, end_date)\n",
    "daily_returns = calculate_daily_returns(close_prices)\n",
    "\n",
    "rolling_beta_df = calculate_rolling_beta(daily_returns, tickers, benchmark_ticker)\n",
    "print('\nRolling Beta (60 days):')\n",
    "print(rolling_beta_df.tail())\n",
    "\n",
    "close_prices = add_momentum(close_prices, tickers)\n",

    "print(f'\nMomentum (60 days):\n{close_prices.filter(like='_Mom_').tail()}')\n",
    "\n",
    "close_prices = add_zscore(close_prices, tickers)\n",
    "print(f'\nNormalized Price (Z-Score over 60 days):\n{close_prices.filter(like='_ZScore_').tail()}')\n",
    "\n",
    "daily_returns = add_skew_kurtosis(daily_returns, tickers)\n",
    "print(f'\nSkewness and Kurtosis of Daily Returns (60 days):\n{daily_returns.filter(like='_Skew_').join(daily_returns.filter(like='_Kurt_')).tail()}')\n"

    "print(f'\nMomentum (60 days):\n{close_prices.filter(like=\'_Mom_\').tail()}')\n",
    "\n",
    "close_prices = add_zscore(close_prices, tickers)\n",
    "print(f'\nNormalized Price (Z-Score over 60 days):\n{close_prices.filter(like=\'_ZScore_\').tail()}')\n",
    "\n",
    "daily_returns = add_skew_kurtosis(daily_returns, tickers)\n",
    "print(f'\nSkewness and Kurtosis of Daily Returns (60 days):\n{daily_returns.filter(like=\'_Skew_\').join(daily_returns.filter(like=\'_Kurt_\')).tail()}')\n"

   ]
  }
 ]
}
